{
 "cells": [
  {
   "cell_type": "markdown",
   "metadata": {},
   "source": [
    "# CAPSTONE PROJECT: BATTLE OF THE NEIGHBORHOODS\n",
    "## Bali Indonesia Food Venue Recommendation for Tourist"
   ]
  },
  {
   "cell_type": "markdown",
   "metadata": {},
   "source": [
    "_________\n",
    "## I. INTRODUCTION\n",
    "Bali is an Indonesian island known for its forested volcanic mountains, iconic rice paddies, beaches and coral reefs. The island is home to religious sites such as cliffside Uluwatu Temple. To the south, the beachside city of Kuta has lively bars, while Seminyak, Sanur and Nusa Dua are popular resort towns. The island is also known for its yoga and meditation retreats.\n",
    "\n",
    "Other than that, Bali also have many choice of food venue that worth to try. In order to experienced it better, living near the location that surronded by food can be a good when visiting Bali. Hence the intention of this project is to give suggestion for tourist where is the best location to stay in Bali based on the surronded food venue.\n",
    "\n",
    "For this project, we will clustering administrative division of Bali based on the food venue around. So that we can give location suggestion to tourist before their visit in Bali.  \n",
    "______\n",
    "## II. DATASET\n",
    "The dataset will be and administrative division in Bali that will be get from Bali Wikipedia pages. The data can be get from table in this site https://en.wikipedia.org/wiki/Bali. Then we will used foursquare API to get the top venue surronded in each area.\n",
    "\n"
   ]
  }
 ],
 "metadata": {
  "kernelspec": {
   "display_name": "Python 3",
   "language": "python",
   "name": "python3"
  },
  "language_info": {
   "codemirror_mode": {
    "name": "ipython",
    "version": 3
   },
   "file_extension": ".py",
   "mimetype": "text/x-python",
   "name": "python",
   "nbconvert_exporter": "python",
   "pygments_lexer": "ipython3",
   "version": "3.7.6"
  }
 },
 "nbformat": 4,
 "nbformat_minor": 4
}
