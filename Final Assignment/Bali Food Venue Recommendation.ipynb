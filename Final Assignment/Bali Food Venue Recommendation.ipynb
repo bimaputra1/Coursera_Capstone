{
 "cells": [
  {
   "cell_type": "markdown",
   "metadata": {},
   "source": [
    "# CAPSTONE PROJECT: BATTLE OF THE NEIGHBORHOODS  \n",
    "## Bali Indonesia Venue Recommendation for Food Lover Tourist"
   ]
  },
  {
   "cell_type": "markdown",
   "metadata": {},
   "source": [
    "____"
   ]
  },
  {
   "cell_type": "markdown",
   "metadata": {},
   "source": [
    "### Preparing Dataset"
   ]
  },
  {
   "cell_type": "code",
   "execution_count": 127,
   "metadata": {},
   "outputs": [],
   "source": [
    "# Import Library\n",
    "import pandas as pd\n",
    "import numpy as np"
   ]
  },
  {
   "cell_type": "code",
   "execution_count": 193,
   "metadata": {},
   "outputs": [
    {
     "data": {
      "text/html": [
       "<div>\n",
       "<style scoped>\n",
       "    .dataframe tbody tr th:only-of-type {\n",
       "        vertical-align: middle;\n",
       "    }\n",
       "\n",
       "    .dataframe tbody tr th {\n",
       "        vertical-align: top;\n",
       "    }\n",
       "\n",
       "    .dataframe thead th {\n",
       "        text-align: right;\n",
       "    }\n",
       "</style>\n",
       "<table border=\"1\" class=\"dataframe\">\n",
       "  <thead>\n",
       "    <tr style=\"text-align: right;\">\n",
       "      <th></th>\n",
       "      <th>Regency</th>\n",
       "    </tr>\n",
       "  </thead>\n",
       "  <tbody>\n",
       "    <tr>\n",
       "      <th>0</th>\n",
       "      <td>Denpasar</td>\n",
       "    </tr>\n",
       "    <tr>\n",
       "      <th>1</th>\n",
       "      <td>Tabanan</td>\n",
       "    </tr>\n",
       "    <tr>\n",
       "      <th>2</th>\n",
       "      <td>Gianyar</td>\n",
       "    </tr>\n",
       "    <tr>\n",
       "      <th>3</th>\n",
       "      <td>Klungkung</td>\n",
       "    </tr>\n",
       "    <tr>\n",
       "      <th>4</th>\n",
       "      <td>Bangli</td>\n",
       "    </tr>\n",
       "  </tbody>\n",
       "</table>\n",
       "</div>"
      ],
      "text/plain": [
       "     Regency\n",
       "0   Denpasar\n",
       "1    Tabanan\n",
       "2    Gianyar\n",
       "3  Klungkung\n",
       "4     Bangli"
      ]
     },
     "execution_count": 193,
     "metadata": {},
     "output_type": "execute_result"
    }
   ],
   "source": [
    "# Get 4 popular Bali Location\n",
    "Bali_Area = pd.DataFrame(data = {'Regency':['Denpasar','Tabanan','Gianyar','Klungkung','Bangli']})\n",
    "Bali_Area"
   ]
  },
  {
   "cell_type": "code",
   "execution_count": 194,
   "metadata": {},
   "outputs": [
    {
     "data": {
      "text/plain": [
       "0     Denpasar\n",
       "1      Tabanan\n",
       "2      Gianyar\n",
       "3    Klungkung\n",
       "4       Bangli\n",
       "Name: Regency, dtype: object"
      ]
     },
     "execution_count": 194,
     "metadata": {},
     "output_type": "execute_result"
    }
   ],
   "source": [
    "df_Bali = Bali_Area.iloc[:,0]\n",
    "df_Bali"
   ]
  },
  {
   "cell_type": "code",
   "execution_count": 195,
   "metadata": {},
   "outputs": [
    {
     "data": {
      "text/plain": [
       "'Tabanan'"
      ]
     },
     "execution_count": 195,
     "metadata": {},
     "output_type": "execute_result"
    }
   ],
   "source": [
    "df_Bali[1]"
   ]
  },
  {
   "cell_type": "markdown",
   "metadata": {},
   "source": [
    "### Getting Coordinate for Bali City and Regency"
   ]
  },
  {
   "cell_type": "code",
   "execution_count": 196,
   "metadata": {},
   "outputs": [],
   "source": [
    "# Import Library for Geocoding\n",
    "\n",
    "#mapping tools\n",
    "# !pip install geopy \n",
    "from geopy.geocoders import Nominatim # convert an address into latitude and longitude values\n",
    "\n",
    "# !pip install folium\n",
    "import folium # map rendering library\n",
    "\n",
    "#other library\n",
    "from sklearn.cluster import KMeans\n",
    "import json\n",
    "import requests\n",
    "import matplotlib.cm as cm\n",
    "import matplotlib.colors as colors"
   ]
  },
  {
   "cell_type": "code",
   "execution_count": 200,
   "metadata": {},
   "outputs": [],
   "source": [
    "# Make Function to generate coordinates\n",
    "\n",
    "def getlatlong(address):\n",
    "    geolocator = Nominatim()\n",
    "    location = geolocator.geocode(address)\n",
    "    latitude = location.latitude\n",
    "    longitude = location.longitude\n",
    "    return latitude,longitude"
   ]
  },
  {
   "cell_type": "code",
   "execution_count": 201,
   "metadata": {},
   "outputs": [
    {
     "name": "stderr",
     "output_type": "stream",
     "text": [
      "/Users/pratamab/opt/anaconda3/lib/python3.7/site-packages/ipykernel_launcher.py:4: DeprecationWarning: Using Nominatim with the default \"geopy/1.21.0\" `user_agent` is strongly discouraged, as it violates Nominatim's ToS https://operations.osmfoundation.org/policies/nominatim/ and may possibly cause 403 and 429 HTTP errors. Please specify a custom `user_agent` with `Nominatim(user_agent=\"my-application\")` or by overriding the default `user_agent`: `geopy.geocoders.options.default_user_agent = \"my-application\"`. In geopy 2.0 this will become an exception.\n",
      "  after removing the cwd from sys.path.\n"
     ]
    },
    {
     "name": "stdout",
     "output_type": "stream",
     "text": [
      "Denpasar -8.6524973 115.2191175\n",
      "Tabanan -8.5392306 115.1265683\n",
      "Gianyar -8.5482357 115.32605401537212\n",
      "Klungkung -8.5350173 115.4032763\n",
      "Bangli -8.4603116 115.3535198\n"
     ]
    }
   ],
   "source": [
    "# Capture Latitudes and Longitudes\n",
    "\n",
    "df_Bali = Bali_Area.iloc[:,0]\n",
    "\n",
    "latitudes = {}\n",
    "longitudes = {}\n",
    "\n",
    "for i in range(0,5):\n",
    "    latitudes[i],longitudes[i] = getlatlong(df_Bali[i])\n",
    "    print(df_Bali[i], latitudes[i], longitudes[i])\n",
    "    "
   ]
  },
  {
   "cell_type": "code",
   "execution_count": 202,
   "metadata": {},
   "outputs": [
    {
     "data": {
      "text/html": [
       "<div>\n",
       "<style scoped>\n",
       "    .dataframe tbody tr th:only-of-type {\n",
       "        vertical-align: middle;\n",
       "    }\n",
       "\n",
       "    .dataframe tbody tr th {\n",
       "        vertical-align: top;\n",
       "    }\n",
       "\n",
       "    .dataframe thead th {\n",
       "        text-align: right;\n",
       "    }\n",
       "</style>\n",
       "<table border=\"1\" class=\"dataframe\">\n",
       "  <thead>\n",
       "    <tr style=\"text-align: right;\">\n",
       "      <th></th>\n",
       "      <th>Regency</th>\n",
       "      <th>Lat</th>\n",
       "      <th>Long</th>\n",
       "    </tr>\n",
       "  </thead>\n",
       "  <tbody>\n",
       "    <tr>\n",
       "      <th>0</th>\n",
       "      <td>Denpasar</td>\n",
       "      <td>-8.652497</td>\n",
       "      <td>115.219117</td>\n",
       "    </tr>\n",
       "    <tr>\n",
       "      <th>1</th>\n",
       "      <td>Tabanan</td>\n",
       "      <td>-8.539231</td>\n",
       "      <td>115.126568</td>\n",
       "    </tr>\n",
       "    <tr>\n",
       "      <th>2</th>\n",
       "      <td>Gianyar</td>\n",
       "      <td>-8.548236</td>\n",
       "      <td>115.326054</td>\n",
       "    </tr>\n",
       "    <tr>\n",
       "      <th>3</th>\n",
       "      <td>Klungkung</td>\n",
       "      <td>-8.535017</td>\n",
       "      <td>115.403276</td>\n",
       "    </tr>\n",
       "    <tr>\n",
       "      <th>4</th>\n",
       "      <td>Bangli</td>\n",
       "      <td>-8.460312</td>\n",
       "      <td>115.353520</td>\n",
       "    </tr>\n",
       "  </tbody>\n",
       "</table>\n",
       "</div>"
      ],
      "text/plain": [
       "     Regency       Lat        Long\n",
       "0   Denpasar -8.652497  115.219117\n",
       "1    Tabanan -8.539231  115.126568\n",
       "2    Gianyar -8.548236  115.326054\n",
       "3  Klungkung -8.535017  115.403276\n",
       "4     Bangli -8.460312  115.353520"
      ]
     },
     "execution_count": 202,
     "metadata": {},
     "output_type": "execute_result"
    }
   ],
   "source": [
    "# Combining Regency, Latitude and Longitude Data to create final dataset\n",
    "df_Bali_Final = pd.DataFrame (data = {'Regency':df_Bali, 'Lat':latitudes,'Long':longitudes})\n",
    "df_Bali_Final"
   ]
  },
  {
   "cell_type": "code",
   "execution_count": 205,
   "metadata": {},
   "outputs": [
    {
     "data": {
      "text/html": [
       "<div style=\"width:100%;\"><div style=\"position:relative;width:100%;height:0;padding-bottom:60%;\"><iframe src=\"data:text/html;charset=utf-8;base64,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\" style=\"position:absolute;width:100%;height:100%;left:0;top:0;border:none !important;\" allowfullscreen webkitallowfullscreen mozallowfullscreen></iframe></div></div>"
      ],
      "text/plain": [
       "<folium.folium.Map at 0x1a26b9c0d0>"
      ]
     },
     "execution_count": 205,
     "metadata": {},
     "output_type": "execute_result"
    }
   ],
   "source": [
    "# create map of Bali using latitude and longitude values\n",
    "map_Bali = folium.Map(location=[latitude, longitude], zoom_start=10)\n",
    "\n",
    "# add markers to map\n",
    "for lat, lng, Regency in zip(df_Bali_Final['Lat'], \n",
    "                             df_Bali_Final['Long'], \n",
    "                             df_Bali_Final['Regency']):\n",
    "  label = '{}'.format(Regency)\n",
    "  label = folium.Popup(label, parse_html=True)\n",
    "  folium.CircleMarker(\n",
    "      [lat, lng],\n",
    "      radius=5,\n",
    "      popup=label,\n",
    "      color='blue',\n",
    "      fill=True,\n",
    "      fill_color='#3186cc',\n",
    "      fill_opacity=0.7).add_to(map_Bali) \n",
    "    \n",
    "map_Bali"
   ]
  },
  {
   "cell_type": "code",
   "execution_count": null,
   "metadata": {},
   "outputs": [],
   "source": [
    "{'Denpasar','Tabana','Gianyar','Klungkung','Bangli'}"
   ]
  },
  {
   "cell_type": "markdown",
   "metadata": {},
   "source": [
    "### Get Food Venue Around"
   ]
  },
  {
   "cell_type": "markdown",
   "metadata": {},
   "source": [
    "### Setup Credential"
   ]
  },
  {
   "cell_type": "code",
   "execution_count": 206,
   "metadata": {},
   "outputs": [
    {
     "name": "stdout",
     "output_type": "stream",
     "text": [
      "Your credentails:\n",
      "CLIENT_ID: 2MD2TJL1K0FC1CPALRMURS3DOMMNTK1TA0YFS2ORISNG3YZX\n",
      "CLIENT_SECRET:BCGPQPXRYKEFLG1I0N4RCLG5GS0UVLVE5DZQCZOKI5ICU0GE\n"
     ]
    }
   ],
   "source": [
    "# Setup Credential\n",
    "\n",
    "CLIENT_ID = '2MD2TJL1K0FC1CPALRMURS3DOMMNTK1TA0YFS2ORISNG3YZX' # your Foursquare ID\n",
    "CLIENT_SECRET = 'BCGPQPXRYKEFLG1I0N4RCLG5GS0UVLVE5DZQCZOKI5ICU0GE' # your Foursquare Secret\n",
    "VERSION = '20180605' # Foursquare API version\n",
    "\n",
    "print('Your credentails:')\n",
    "print('CLIENT_ID: ' + CLIENT_ID)\n",
    "print('CLIENT_SECRET:' + CLIENT_SECRET)"
   ]
  },
  {
   "cell_type": "markdown",
   "metadata": {},
   "source": [
    "Create a function to search food category around"
   ]
  },
  {
   "cell_type": "code",
   "execution_count": 229,
   "metadata": {},
   "outputs": [],
   "source": [
    "def getNearbyVenuesCategory(names, latitudes, longitudes, radius=500, LIMIT = 100, category_id = '4bf58dd8d48988d143941735'):\n",
    "    \n",
    "    venues_list=[]\n",
    "    for name, lat, lng in zip(names, latitudes, longitudes):\n",
    "        #print(name)\n",
    "            \n",
    "        # create the API request URL\n",
    "        url = 'https://api.foursquare.com/v2/venues/explore?&client_id={}&client_secret={}&v={}&ll={},{}&radius={}&limit={}&categoryId={}'.format(\n",
    "            CLIENT_ID, \n",
    "            CLIENT_SECRET, \n",
    "            VERSION, \n",
    "            lat, \n",
    "            lng, \n",
    "            radius, \n",
    "            LIMIT,\n",
    "            category_id)\n",
    "            \n",
    "        # make the GET request\n",
    "        results = requests.get(url).json()[\"response\"]['groups'][0]['items']\n",
    "        \n",
    "        # return only relevant information for each nearby venue\n",
    "        venues_list.append([(\n",
    "            name, \n",
    "            lat, \n",
    "            lng, \n",
    "            v['venue']['name'], \n",
    "            v['venue']['location']['lat'], \n",
    "            v['venue']['location']['lng'],  \n",
    "            v['venue']['categories'][0]['name']) for v in results])\n",
    "\n",
    "    nearby_venues = pd.DataFrame([item for venue_list in venues_list for item in venue_list])\n",
    "    nearby_venues.columns = ['Regency', \n",
    "                  'Regency Latitude', \n",
    "                  'Regency Longitude', \n",
    "                  'Venue', \n",
    "                  'Venue Latitude', \n",
    "                  'Venue Longitude', \n",
    "                  'Venue Category']\n",
    "    \n",
    "    return(nearby_venues)"
   ]
  },
  {
   "cell_type": "code",
   "execution_count": 251,
   "metadata": {},
   "outputs": [],
   "source": [
    "def getNearbyVenues(names, latitudes, longitudes, radius=500, LIMIT = 100):\n",
    "    \n",
    "    venues_list=[]\n",
    "    for name, lat, lng in zip(names, latitudes, longitudes):\n",
    "        #print(name)\n",
    "            \n",
    "        # create the API request URL\n",
    "        url = 'https://api.foursquare.com/v2/venues/explore?&client_id={}&client_secret={}&v={}&ll={},{}&radius={}&limit={}'.format(\n",
    "            CLIENT_ID, \n",
    "            CLIENT_SECRET, \n",
    "            VERSION, \n",
    "            lat, \n",
    "            lng, \n",
    "            radius, \n",
    "            LIMIT)\n",
    "            \n",
    "        # make the GET request\n",
    "        results = requests.get(url).json()[\"response\"]['groups'][0]['items']\n",
    "        \n",
    "        # return only relevant information for each nearby venue\n",
    "        venues_list.append([(\n",
    "            name, \n",
    "            lat, \n",
    "            lng, \n",
    "            v['venue']['name'], \n",
    "            v['venue']['location']['lat'], \n",
    "            v['venue']['location']['lng'],  \n",
    "            v['venue']['categories'][0]['name']) for v in results])\n",
    "\n",
    "    nearby_venues = pd.DataFrame([item for venue_list in venues_list for item in venue_list])\n",
    "    nearby_venues.columns = ['Regency', \n",
    "                  'Regency Latitude', \n",
    "                  'Regency Longitude', \n",
    "                  'Venue', \n",
    "                  'Venue Latitude', \n",
    "                  'Venue Longitude', \n",
    "                  'Venue Category']\n",
    "    \n",
    "    return(nearby_venues)"
   ]
  },
  {
   "cell_type": "code",
   "execution_count": 252,
   "metadata": {},
   "outputs": [],
   "source": [
    "Bali_venues = getNearbyVenues(df_Bali_Final.Regency,\n",
    "                              df_Bali_Final.Lat,\n",
    "                              df_Bali_Final.Long)"
   ]
  },
  {
   "cell_type": "code",
   "execution_count": 253,
   "metadata": {},
   "outputs": [
    {
     "name": "stdout",
     "output_type": "stream",
     "text": [
      "(49, 7)\n"
     ]
    },
    {
     "data": {
      "text/html": [
       "<div>\n",
       "<style scoped>\n",
       "    .dataframe tbody tr th:only-of-type {\n",
       "        vertical-align: middle;\n",
       "    }\n",
       "\n",
       "    .dataframe tbody tr th {\n",
       "        vertical-align: top;\n",
       "    }\n",
       "\n",
       "    .dataframe thead th {\n",
       "        text-align: right;\n",
       "    }\n",
       "</style>\n",
       "<table border=\"1\" class=\"dataframe\">\n",
       "  <thead>\n",
       "    <tr style=\"text-align: right;\">\n",
       "      <th></th>\n",
       "      <th>Regency</th>\n",
       "      <th>Regency Latitude</th>\n",
       "      <th>Regency Longitude</th>\n",
       "      <th>Venue</th>\n",
       "      <th>Venue Latitude</th>\n",
       "      <th>Venue Longitude</th>\n",
       "      <th>Venue Category</th>\n",
       "    </tr>\n",
       "  </thead>\n",
       "  <tbody>\n",
       "    <tr>\n",
       "      <th>0</th>\n",
       "      <td>Denpasar</td>\n",
       "      <td>-8.652497</td>\n",
       "      <td>115.219117</td>\n",
       "      <td>Dapoer Pemuda</td>\n",
       "      <td>-8.653717</td>\n",
       "      <td>115.217061</td>\n",
       "      <td>Indonesian Restaurant</td>\n",
       "    </tr>\n",
       "    <tr>\n",
       "      <th>1</th>\n",
       "      <td>Denpasar</td>\n",
       "      <td>-8.652497</td>\n",
       "      <td>115.219117</td>\n",
       "      <td>Kober Mie Setan Kaliasem</td>\n",
       "      <td>-8.655080</td>\n",
       "      <td>115.218596</td>\n",
       "      <td>Noodle House</td>\n",
       "    </tr>\n",
       "    <tr>\n",
       "      <th>2</th>\n",
       "      <td>Denpasar</td>\n",
       "      <td>-8.652497</td>\n",
       "      <td>115.219117</td>\n",
       "      <td>Voltvet Eatery &amp; Coffee</td>\n",
       "      <td>-8.653594</td>\n",
       "      <td>115.217020</td>\n",
       "      <td>Café</td>\n",
       "    </tr>\n",
       "    <tr>\n",
       "      <th>3</th>\n",
       "      <td>Denpasar</td>\n",
       "      <td>-8.652497</td>\n",
       "      <td>115.219117</td>\n",
       "      <td>Warung Wardani</td>\n",
       "      <td>-8.651159</td>\n",
       "      <td>115.215957</td>\n",
       "      <td>Indonesian Restaurant</td>\n",
       "    </tr>\n",
       "    <tr>\n",
       "      <th>4</th>\n",
       "      <td>Denpasar</td>\n",
       "      <td>-8.652497</td>\n",
       "      <td>115.219117</td>\n",
       "      <td>Patung Catur Muka</td>\n",
       "      <td>-8.656036</td>\n",
       "      <td>115.216993</td>\n",
       "      <td>Monument / Landmark</td>\n",
       "    </tr>\n",
       "  </tbody>\n",
       "</table>\n",
       "</div>"
      ],
      "text/plain": [
       "    Regency  Regency Latitude  Regency Longitude                     Venue  \\\n",
       "0  Denpasar         -8.652497         115.219117             Dapoer Pemuda   \n",
       "1  Denpasar         -8.652497         115.219117  Kober Mie Setan Kaliasem   \n",
       "2  Denpasar         -8.652497         115.219117   Voltvet Eatery & Coffee   \n",
       "3  Denpasar         -8.652497         115.219117            Warung Wardani   \n",
       "4  Denpasar         -8.652497         115.219117         Patung Catur Muka   \n",
       "\n",
       "   Venue Latitude  Venue Longitude         Venue Category  \n",
       "0       -8.653717       115.217061  Indonesian Restaurant  \n",
       "1       -8.655080       115.218596           Noodle House  \n",
       "2       -8.653594       115.217020                   Café  \n",
       "3       -8.651159       115.215957  Indonesian Restaurant  \n",
       "4       -8.656036       115.216993    Monument / Landmark  "
      ]
     },
     "execution_count": 253,
     "metadata": {},
     "output_type": "execute_result"
    }
   ],
   "source": [
    "print(Bali_venues.shape)\n",
    "Bali_venues.head()"
   ]
  },
  {
   "cell_type": "code",
   "execution_count": 255,
   "metadata": {},
   "outputs": [
    {
     "data": {
      "text/plain": [
       "Regency\n",
       "Denpasar     28\n",
       "Klungkung    11\n",
       "Tabanan       4\n",
       "Gianyar       3\n",
       "Bangli        3\n",
       "Name: Venue, dtype: int64"
      ]
     },
     "execution_count": 255,
     "metadata": {},
     "output_type": "execute_result"
    }
   ],
   "source": [
    "# Get Total Venue in each neighborhood\n",
    "\n",
    "Bali_venues.groupby(\"Regency\").Venue.count().sort_values(ascending=False).head()"
   ]
  },
  {
   "cell_type": "code",
   "execution_count": 256,
   "metadata": {},
   "outputs": [
    {
     "name": "stdout",
     "output_type": "stream",
     "text": [
      "There are 34 uniques categories.\n",
      "\n",
      "['Indonesian Restaurant' 'Noodle House' 'Café' 'Monument / Landmark'\n",
      " 'Coffee Shop' 'Satay Restaurant' 'Historic Site' 'Gym' 'Hotel'\n",
      " 'BBQ Joint' 'Bike Shop' 'Pizza Place' 'Bakery' 'Seafood Restaurant'\n",
      " 'Pet Store' 'Middle Eastern Restaurant' 'Ice Cream Shop'\n",
      " 'Miscellaneous Shop' 'Asian Restaurant' 'Convenience Store'\n",
      " 'Video Game Store' 'Breakfast Spot' 'Chinese Restaurant' 'Farmers Market'\n",
      " 'Park' 'History Museum' 'Department Store' 'Night Market' 'Field'\n",
      " 'Food Truck' 'Javanese Restaurant' 'General Entertainment' 'Snack Place'\n",
      " 'Flea Market']\n"
     ]
    }
   ],
   "source": [
    "# Total Unique Category in neighborhood\n",
    "print('There are {} uniques categories.'.format(len(Bali_venues['Venue Category'].unique())))\n",
    "print('')\n",
    "print(Bali_venues['Venue Category'].unique())"
   ]
  },
  {
   "cell_type": "markdown",
   "metadata": {},
   "source": [
    "#### One Hot Encoding in category data"
   ]
  },
  {
   "cell_type": "markdown",
   "metadata": {},
   "source": [
    "Let us now take the venue category information and create a dataframe with a one hot enconding of these data."
   ]
  },
  {
   "cell_type": "code",
   "execution_count": 258,
   "metadata": {},
   "outputs": [
    {
     "data": {
      "text/html": [
       "<div>\n",
       "<style scoped>\n",
       "    .dataframe tbody tr th:only-of-type {\n",
       "        vertical-align: middle;\n",
       "    }\n",
       "\n",
       "    .dataframe tbody tr th {\n",
       "        vertical-align: top;\n",
       "    }\n",
       "\n",
       "    .dataframe thead th {\n",
       "        text-align: right;\n",
       "    }\n",
       "</style>\n",
       "<table border=\"1\" class=\"dataframe\">\n",
       "  <thead>\n",
       "    <tr style=\"text-align: right;\">\n",
       "      <th></th>\n",
       "      <th>Regency</th>\n",
       "      <th>Asian Restaurant</th>\n",
       "      <th>BBQ Joint</th>\n",
       "      <th>Bakery</th>\n",
       "      <th>Bike Shop</th>\n",
       "      <th>Breakfast Spot</th>\n",
       "      <th>Café</th>\n",
       "      <th>Chinese Restaurant</th>\n",
       "      <th>Coffee Shop</th>\n",
       "      <th>Convenience Store</th>\n",
       "      <th>...</th>\n",
       "      <th>Monument / Landmark</th>\n",
       "      <th>Night Market</th>\n",
       "      <th>Noodle House</th>\n",
       "      <th>Park</th>\n",
       "      <th>Pet Store</th>\n",
       "      <th>Pizza Place</th>\n",
       "      <th>Satay Restaurant</th>\n",
       "      <th>Seafood Restaurant</th>\n",
       "      <th>Snack Place</th>\n",
       "      <th>Video Game Store</th>\n",
       "    </tr>\n",
       "  </thead>\n",
       "  <tbody>\n",
       "    <tr>\n",
       "      <th>0</th>\n",
       "      <td>Denpasar</td>\n",
       "      <td>0</td>\n",
       "      <td>0</td>\n",
       "      <td>0</td>\n",
       "      <td>0</td>\n",
       "      <td>0</td>\n",
       "      <td>0</td>\n",
       "      <td>0</td>\n",
       "      <td>0</td>\n",
       "      <td>0</td>\n",
       "      <td>...</td>\n",
       "      <td>0</td>\n",
       "      <td>0</td>\n",
       "      <td>0</td>\n",
       "      <td>0</td>\n",
       "      <td>0</td>\n",
       "      <td>0</td>\n",
       "      <td>0</td>\n",
       "      <td>0</td>\n",
       "      <td>0</td>\n",
       "      <td>0</td>\n",
       "    </tr>\n",
       "    <tr>\n",
       "      <th>1</th>\n",
       "      <td>Denpasar</td>\n",
       "      <td>0</td>\n",
       "      <td>0</td>\n",
       "      <td>0</td>\n",
       "      <td>0</td>\n",
       "      <td>0</td>\n",
       "      <td>0</td>\n",
       "      <td>0</td>\n",
       "      <td>0</td>\n",
       "      <td>0</td>\n",
       "      <td>...</td>\n",
       "      <td>0</td>\n",
       "      <td>0</td>\n",
       "      <td>1</td>\n",
       "      <td>0</td>\n",
       "      <td>0</td>\n",
       "      <td>0</td>\n",
       "      <td>0</td>\n",
       "      <td>0</td>\n",
       "      <td>0</td>\n",
       "      <td>0</td>\n",
       "    </tr>\n",
       "    <tr>\n",
       "      <th>2</th>\n",
       "      <td>Denpasar</td>\n",
       "      <td>0</td>\n",
       "      <td>0</td>\n",
       "      <td>0</td>\n",
       "      <td>0</td>\n",
       "      <td>0</td>\n",
       "      <td>1</td>\n",
       "      <td>0</td>\n",
       "      <td>0</td>\n",
       "      <td>0</td>\n",
       "      <td>...</td>\n",
       "      <td>0</td>\n",
       "      <td>0</td>\n",
       "      <td>0</td>\n",
       "      <td>0</td>\n",
       "      <td>0</td>\n",
       "      <td>0</td>\n",
       "      <td>0</td>\n",
       "      <td>0</td>\n",
       "      <td>0</td>\n",
       "      <td>0</td>\n",
       "    </tr>\n",
       "    <tr>\n",
       "      <th>3</th>\n",
       "      <td>Denpasar</td>\n",
       "      <td>0</td>\n",
       "      <td>0</td>\n",
       "      <td>0</td>\n",
       "      <td>0</td>\n",
       "      <td>0</td>\n",
       "      <td>0</td>\n",
       "      <td>0</td>\n",
       "      <td>0</td>\n",
       "      <td>0</td>\n",
       "      <td>...</td>\n",
       "      <td>0</td>\n",
       "      <td>0</td>\n",
       "      <td>0</td>\n",
       "      <td>0</td>\n",
       "      <td>0</td>\n",
       "      <td>0</td>\n",
       "      <td>0</td>\n",
       "      <td>0</td>\n",
       "      <td>0</td>\n",
       "      <td>0</td>\n",
       "    </tr>\n",
       "    <tr>\n",
       "      <th>4</th>\n",
       "      <td>Denpasar</td>\n",
       "      <td>0</td>\n",
       "      <td>0</td>\n",
       "      <td>0</td>\n",
       "      <td>0</td>\n",
       "      <td>0</td>\n",
       "      <td>0</td>\n",
       "      <td>0</td>\n",
       "      <td>0</td>\n",
       "      <td>0</td>\n",
       "      <td>...</td>\n",
       "      <td>1</td>\n",
       "      <td>0</td>\n",
       "      <td>0</td>\n",
       "      <td>0</td>\n",
       "      <td>0</td>\n",
       "      <td>0</td>\n",
       "      <td>0</td>\n",
       "      <td>0</td>\n",
       "      <td>0</td>\n",
       "      <td>0</td>\n",
       "    </tr>\n",
       "  </tbody>\n",
       "</table>\n",
       "<p>5 rows × 35 columns</p>\n",
       "</div>"
      ],
      "text/plain": [
       "    Regency  Asian Restaurant  BBQ Joint  Bakery  Bike Shop  Breakfast Spot  \\\n",
       "0  Denpasar                 0          0       0          0               0   \n",
       "1  Denpasar                 0          0       0          0               0   \n",
       "2  Denpasar                 0          0       0          0               0   \n",
       "3  Denpasar                 0          0       0          0               0   \n",
       "4  Denpasar                 0          0       0          0               0   \n",
       "\n",
       "   Café  Chinese Restaurant  Coffee Shop  Convenience Store  ...  \\\n",
       "0     0                   0            0                  0  ...   \n",
       "1     0                   0            0                  0  ...   \n",
       "2     1                   0            0                  0  ...   \n",
       "3     0                   0            0                  0  ...   \n",
       "4     0                   0            0                  0  ...   \n",
       "\n",
       "   Monument / Landmark  Night Market  Noodle House  Park  Pet Store  \\\n",
       "0                    0             0             0     0          0   \n",
       "1                    0             0             1     0          0   \n",
       "2                    0             0             0     0          0   \n",
       "3                    0             0             0     0          0   \n",
       "4                    1             0             0     0          0   \n",
       "\n",
       "   Pizza Place  Satay Restaurant  Seafood Restaurant  Snack Place  \\\n",
       "0            0                 0                   0            0   \n",
       "1            0                 0                   0            0   \n",
       "2            0                 0                   0            0   \n",
       "3            0                 0                   0            0   \n",
       "4            0                 0                   0            0   \n",
       "\n",
       "   Video Game Store  \n",
       "0                 0  \n",
       "1                 0  \n",
       "2                 0  \n",
       "3                 0  \n",
       "4                 0  \n",
       "\n",
       "[5 rows x 35 columns]"
      ]
     },
     "execution_count": 258,
     "metadata": {},
     "output_type": "execute_result"
    }
   ],
   "source": [
    "# one hot encoding\n",
    "Bali_onehot = pd.get_dummies(Bali_venues[['Venue Category']], prefix=\"\", prefix_sep=\"\")\n",
    "\n",
    "# add neighborhood column back to dataframe\n",
    "Bali_onehot['Regency'] = Bali_venues['Regency'] \n",
    "\n",
    "# move neighborhood column to the first column\n",
    "fixed_columns = [Bali_onehot.columns[-1]] + list(Bali_onehot.columns[:-1])\n",
    "Bali_onehot = Bali_onehot[fixed_columns]\n",
    "\n",
    "Bali_onehot.head()"
   ]
  },
  {
   "cell_type": "code",
   "execution_count": 259,
   "metadata": {},
   "outputs": [
    {
     "data": {
      "text/plain": [
       "(49, 35)"
      ]
     },
     "execution_count": 259,
     "metadata": {},
     "output_type": "execute_result"
    }
   ],
   "source": [
    "Bali_onehot.shape"
   ]
  },
  {
   "cell_type": "markdown",
   "metadata": {},
   "source": [
    "Next, let's group rows by neighborhood and by taking the mean of the frequency of occurrence of each category"
   ]
  },
  {
   "cell_type": "code",
   "execution_count": 260,
   "metadata": {},
   "outputs": [
    {
     "data": {
      "text/html": [
       "<div>\n",
       "<style scoped>\n",
       "    .dataframe tbody tr th:only-of-type {\n",
       "        vertical-align: middle;\n",
       "    }\n",
       "\n",
       "    .dataframe tbody tr th {\n",
       "        vertical-align: top;\n",
       "    }\n",
       "\n",
       "    .dataframe thead th {\n",
       "        text-align: right;\n",
       "    }\n",
       "</style>\n",
       "<table border=\"1\" class=\"dataframe\">\n",
       "  <thead>\n",
       "    <tr style=\"text-align: right;\">\n",
       "      <th></th>\n",
       "      <th>Regency</th>\n",
       "      <th>Asian Restaurant</th>\n",
       "      <th>BBQ Joint</th>\n",
       "      <th>Bakery</th>\n",
       "      <th>Bike Shop</th>\n",
       "      <th>Breakfast Spot</th>\n",
       "      <th>Café</th>\n",
       "      <th>Chinese Restaurant</th>\n",
       "      <th>Coffee Shop</th>\n",
       "      <th>Convenience Store</th>\n",
       "      <th>...</th>\n",
       "      <th>Monument / Landmark</th>\n",
       "      <th>Night Market</th>\n",
       "      <th>Noodle House</th>\n",
       "      <th>Park</th>\n",
       "      <th>Pet Store</th>\n",
       "      <th>Pizza Place</th>\n",
       "      <th>Satay Restaurant</th>\n",
       "      <th>Seafood Restaurant</th>\n",
       "      <th>Snack Place</th>\n",
       "      <th>Video Game Store</th>\n",
       "    </tr>\n",
       "  </thead>\n",
       "  <tbody>\n",
       "    <tr>\n",
       "      <th>0</th>\n",
       "      <td>Bangli</td>\n",
       "      <td>0.000000</td>\n",
       "      <td>0.000000</td>\n",
       "      <td>0.000000</td>\n",
       "      <td>0.000000</td>\n",
       "      <td>0.00</td>\n",
       "      <td>0.000000</td>\n",
       "      <td>0.00</td>\n",
       "      <td>0.000000</td>\n",
       "      <td>0.000000</td>\n",
       "      <td>...</td>\n",
       "      <td>0.000000</td>\n",
       "      <td>0.000000</td>\n",
       "      <td>0.000000</td>\n",
       "      <td>0.000000</td>\n",
       "      <td>0.000000</td>\n",
       "      <td>0.000000</td>\n",
       "      <td>0.000000</td>\n",
       "      <td>0.000000</td>\n",
       "      <td>0.333333</td>\n",
       "      <td>0.000000</td>\n",
       "    </tr>\n",
       "    <tr>\n",
       "      <th>1</th>\n",
       "      <td>Denpasar</td>\n",
       "      <td>0.035714</td>\n",
       "      <td>0.035714</td>\n",
       "      <td>0.035714</td>\n",
       "      <td>0.035714</td>\n",
       "      <td>0.00</td>\n",
       "      <td>0.035714</td>\n",
       "      <td>0.00</td>\n",
       "      <td>0.107143</td>\n",
       "      <td>0.035714</td>\n",
       "      <td>...</td>\n",
       "      <td>0.035714</td>\n",
       "      <td>0.000000</td>\n",
       "      <td>0.107143</td>\n",
       "      <td>0.000000</td>\n",
       "      <td>0.035714</td>\n",
       "      <td>0.035714</td>\n",
       "      <td>0.035714</td>\n",
       "      <td>0.035714</td>\n",
       "      <td>0.000000</td>\n",
       "      <td>0.035714</td>\n",
       "    </tr>\n",
       "    <tr>\n",
       "      <th>2</th>\n",
       "      <td>Gianyar</td>\n",
       "      <td>0.000000</td>\n",
       "      <td>0.000000</td>\n",
       "      <td>0.000000</td>\n",
       "      <td>0.000000</td>\n",
       "      <td>0.00</td>\n",
       "      <td>0.000000</td>\n",
       "      <td>0.00</td>\n",
       "      <td>0.000000</td>\n",
       "      <td>0.666667</td>\n",
       "      <td>...</td>\n",
       "      <td>0.000000</td>\n",
       "      <td>0.000000</td>\n",
       "      <td>0.000000</td>\n",
       "      <td>0.333333</td>\n",
       "      <td>0.000000</td>\n",
       "      <td>0.000000</td>\n",
       "      <td>0.000000</td>\n",
       "      <td>0.000000</td>\n",
       "      <td>0.000000</td>\n",
       "      <td>0.000000</td>\n",
       "    </tr>\n",
       "    <tr>\n",
       "      <th>3</th>\n",
       "      <td>Klungkung</td>\n",
       "      <td>0.000000</td>\n",
       "      <td>0.000000</td>\n",
       "      <td>0.000000</td>\n",
       "      <td>0.000000</td>\n",
       "      <td>0.00</td>\n",
       "      <td>0.090909</td>\n",
       "      <td>0.00</td>\n",
       "      <td>0.000000</td>\n",
       "      <td>0.000000</td>\n",
       "      <td>...</td>\n",
       "      <td>0.000000</td>\n",
       "      <td>0.090909</td>\n",
       "      <td>0.000000</td>\n",
       "      <td>0.000000</td>\n",
       "      <td>0.000000</td>\n",
       "      <td>0.000000</td>\n",
       "      <td>0.000000</td>\n",
       "      <td>0.000000</td>\n",
       "      <td>0.000000</td>\n",
       "      <td>0.000000</td>\n",
       "    </tr>\n",
       "    <tr>\n",
       "      <th>4</th>\n",
       "      <td>Tabanan</td>\n",
       "      <td>0.000000</td>\n",
       "      <td>0.000000</td>\n",
       "      <td>0.250000</td>\n",
       "      <td>0.000000</td>\n",
       "      <td>0.25</td>\n",
       "      <td>0.000000</td>\n",
       "      <td>0.25</td>\n",
       "      <td>0.000000</td>\n",
       "      <td>0.000000</td>\n",
       "      <td>...</td>\n",
       "      <td>0.000000</td>\n",
       "      <td>0.000000</td>\n",
       "      <td>0.000000</td>\n",
       "      <td>0.000000</td>\n",
       "      <td>0.000000</td>\n",
       "      <td>0.000000</td>\n",
       "      <td>0.000000</td>\n",
       "      <td>0.000000</td>\n",
       "      <td>0.000000</td>\n",
       "      <td>0.000000</td>\n",
       "    </tr>\n",
       "  </tbody>\n",
       "</table>\n",
       "<p>5 rows × 35 columns</p>\n",
       "</div>"
      ],
      "text/plain": [
       "     Regency  Asian Restaurant  BBQ Joint    Bakery  Bike Shop  \\\n",
       "0     Bangli          0.000000   0.000000  0.000000   0.000000   \n",
       "1   Denpasar          0.035714   0.035714  0.035714   0.035714   \n",
       "2    Gianyar          0.000000   0.000000  0.000000   0.000000   \n",
       "3  Klungkung          0.000000   0.000000  0.000000   0.000000   \n",
       "4    Tabanan          0.000000   0.000000  0.250000   0.000000   \n",
       "\n",
       "   Breakfast Spot      Café  Chinese Restaurant  Coffee Shop  \\\n",
       "0            0.00  0.000000                0.00     0.000000   \n",
       "1            0.00  0.035714                0.00     0.107143   \n",
       "2            0.00  0.000000                0.00     0.000000   \n",
       "3            0.00  0.090909                0.00     0.000000   \n",
       "4            0.25  0.000000                0.25     0.000000   \n",
       "\n",
       "   Convenience Store  ...  Monument / Landmark  Night Market  Noodle House  \\\n",
       "0           0.000000  ...             0.000000      0.000000      0.000000   \n",
       "1           0.035714  ...             0.035714      0.000000      0.107143   \n",
       "2           0.666667  ...             0.000000      0.000000      0.000000   \n",
       "3           0.000000  ...             0.000000      0.090909      0.000000   \n",
       "4           0.000000  ...             0.000000      0.000000      0.000000   \n",
       "\n",
       "       Park  Pet Store  Pizza Place  Satay Restaurant  Seafood Restaurant  \\\n",
       "0  0.000000   0.000000     0.000000          0.000000            0.000000   \n",
       "1  0.000000   0.035714     0.035714          0.035714            0.035714   \n",
       "2  0.333333   0.000000     0.000000          0.000000            0.000000   \n",
       "3  0.000000   0.000000     0.000000          0.000000            0.000000   \n",
       "4  0.000000   0.000000     0.000000          0.000000            0.000000   \n",
       "\n",
       "   Snack Place  Video Game Store  \n",
       "0     0.333333          0.000000  \n",
       "1     0.000000          0.035714  \n",
       "2     0.000000          0.000000  \n",
       "3     0.000000          0.000000  \n",
       "4     0.000000          0.000000  \n",
       "\n",
       "[5 rows x 35 columns]"
      ]
     },
     "execution_count": 260,
     "metadata": {},
     "output_type": "execute_result"
    }
   ],
   "source": [
    "Bali_grouped = Bali_onehot.groupby('Regency').mean().reset_index()\n",
    "Bali_grouped"
   ]
  },
  {
   "cell_type": "markdown",
   "metadata": {},
   "source": [
    "## Clustering"
   ]
  },
  {
   "cell_type": "markdown",
   "metadata": {},
   "source": [
    "We Start by finding top 3 venue in each Neighborhood"
   ]
  },
  {
   "cell_type": "code",
   "execution_count": 261,
   "metadata": {},
   "outputs": [],
   "source": [
    "def return_most_common_venues(row, num_top_venues):\n",
    "    row_categories = row.iloc[1:]\n",
    "    row_categories_sorted = row_categories.sort_values(ascending=False)\n",
    "    \n",
    "    return row_categories_sorted.index.values[0:num_top_venues]"
   ]
  },
  {
   "cell_type": "code",
   "execution_count": 278,
   "metadata": {},
   "outputs": [
    {
     "data": {
      "text/html": [
       "<div>\n",
       "<style scoped>\n",
       "    .dataframe tbody tr th:only-of-type {\n",
       "        vertical-align: middle;\n",
       "    }\n",
       "\n",
       "    .dataframe tbody tr th {\n",
       "        vertical-align: top;\n",
       "    }\n",
       "\n",
       "    .dataframe thead th {\n",
       "        text-align: right;\n",
       "    }\n",
       "</style>\n",
       "<table border=\"1\" class=\"dataframe\">\n",
       "  <thead>\n",
       "    <tr style=\"text-align: right;\">\n",
       "      <th></th>\n",
       "      <th>Regency</th>\n",
       "      <th>1st Most Common Venue</th>\n",
       "      <th>2nd Most Common Venue</th>\n",
       "      <th>3rd Most Common Venue</th>\n",
       "    </tr>\n",
       "  </thead>\n",
       "  <tbody>\n",
       "    <tr>\n",
       "      <th>0</th>\n",
       "      <td>Bangli</td>\n",
       "      <td>Gym</td>\n",
       "      <td>Flea Market</td>\n",
       "      <td>Snack Place</td>\n",
       "    </tr>\n",
       "    <tr>\n",
       "      <th>1</th>\n",
       "      <td>Denpasar</td>\n",
       "      <td>Indonesian Restaurant</td>\n",
       "      <td>Coffee Shop</td>\n",
       "      <td>Noodle House</td>\n",
       "    </tr>\n",
       "    <tr>\n",
       "      <th>2</th>\n",
       "      <td>Gianyar</td>\n",
       "      <td>Convenience Store</td>\n",
       "      <td>Park</td>\n",
       "      <td>Video Game Store</td>\n",
       "    </tr>\n",
       "    <tr>\n",
       "      <th>3</th>\n",
       "      <td>Klungkung</td>\n",
       "      <td>History Museum</td>\n",
       "      <td>Historic Site</td>\n",
       "      <td>Night Market</td>\n",
       "    </tr>\n",
       "    <tr>\n",
       "      <th>4</th>\n",
       "      <td>Tabanan</td>\n",
       "      <td>Bakery</td>\n",
       "      <td>Breakfast Spot</td>\n",
       "      <td>Chinese Restaurant</td>\n",
       "    </tr>\n",
       "  </tbody>\n",
       "</table>\n",
       "</div>"
      ],
      "text/plain": [
       "     Regency  1st Most Common Venue 2nd Most Common Venue  \\\n",
       "0     Bangli                    Gym           Flea Market   \n",
       "1   Denpasar  Indonesian Restaurant           Coffee Shop   \n",
       "2    Gianyar      Convenience Store                  Park   \n",
       "3  Klungkung         History Museum         Historic Site   \n",
       "4    Tabanan                 Bakery        Breakfast Spot   \n",
       "\n",
       "  3rd Most Common Venue  \n",
       "0           Snack Place  \n",
       "1          Noodle House  \n",
       "2      Video Game Store  \n",
       "3          Night Market  \n",
       "4    Chinese Restaurant  "
      ]
     },
     "execution_count": 278,
     "metadata": {},
     "output_type": "execute_result"
    }
   ],
   "source": [
    "num_top_venues = 3\n",
    "\n",
    "indicators = ['st', 'nd', 'rd']\n",
    "\n",
    "# create columns according to number of top venues\n",
    "columns = ['Regency']\n",
    "for ind in np.arange(num_top_venues):\n",
    "    try:\n",
    "        columns.append('{}{} Most Common Venue'.format(ind+1, indicators[ind]))\n",
    "    except:\n",
    "        columns.append('{}th Most Common Venue'.format(ind+1))\n",
    "\n",
    "# create a new dataframe\n",
    "neighborhoods_venues_sorted = pd.DataFrame(columns=columns)\n",
    "neighborhoods_venues_sorted['Regency'] = Bali_grouped['Regency']\n",
    "\n",
    "for ind in np.arange(Bali_grouped.shape[0]):\n",
    "    neighborhoods_venues_sorted.iloc[ind, 1:] = return_most_common_venues(Bali_grouped.iloc[ind, :], num_top_venues)\n",
    "\n",
    "neighborhoods_venues_sorted.head()"
   ]
  },
  {
   "cell_type": "code",
   "execution_count": 279,
   "metadata": {},
   "outputs": [
    {
     "data": {
      "text/plain": [
       "array([2, 0, 1, 0, 0], dtype=int32)"
      ]
     },
     "execution_count": 279,
     "metadata": {},
     "output_type": "execute_result"
    }
   ],
   "source": [
    "# set number of clusters\n",
    "kclusters = 3\n",
    "\n",
    "Bali_grouped_clustering = Bali_grouped.drop('Regency', 1)\n",
    "\n",
    "# run k-means clustering\n",
    "kmeans = KMeans(n_clusters=kclusters, random_state=0).fit(Bali_grouped_clustering)\n",
    "\n",
    "# check cluster labels generated for each row in the dataframe\n",
    "kmeans.labels_[0:5]"
   ]
  },
  {
   "cell_type": "code",
   "execution_count": 280,
   "metadata": {},
   "outputs": [
    {
     "data": {
      "text/html": [
       "<div>\n",
       "<style scoped>\n",
       "    .dataframe tbody tr th:only-of-type {\n",
       "        vertical-align: middle;\n",
       "    }\n",
       "\n",
       "    .dataframe tbody tr th {\n",
       "        vertical-align: top;\n",
       "    }\n",
       "\n",
       "    .dataframe thead th {\n",
       "        text-align: right;\n",
       "    }\n",
       "</style>\n",
       "<table border=\"1\" class=\"dataframe\">\n",
       "  <thead>\n",
       "    <tr style=\"text-align: right;\">\n",
       "      <th></th>\n",
       "      <th>Regency</th>\n",
       "      <th>Lat</th>\n",
       "      <th>Long</th>\n",
       "      <th>Cluster Labels</th>\n",
       "      <th>1st Most Common Venue</th>\n",
       "      <th>2nd Most Common Venue</th>\n",
       "      <th>3rd Most Common Venue</th>\n",
       "    </tr>\n",
       "  </thead>\n",
       "  <tbody>\n",
       "    <tr>\n",
       "      <th>0</th>\n",
       "      <td>Denpasar</td>\n",
       "      <td>-8.652497</td>\n",
       "      <td>115.219117</td>\n",
       "      <td>2</td>\n",
       "      <td>Indonesian Restaurant</td>\n",
       "      <td>Coffee Shop</td>\n",
       "      <td>Noodle House</td>\n",
       "    </tr>\n",
       "    <tr>\n",
       "      <th>1</th>\n",
       "      <td>Tabanan</td>\n",
       "      <td>-8.539231</td>\n",
       "      <td>115.126568</td>\n",
       "      <td>0</td>\n",
       "      <td>Bakery</td>\n",
       "      <td>Breakfast Spot</td>\n",
       "      <td>Chinese Restaurant</td>\n",
       "    </tr>\n",
       "    <tr>\n",
       "      <th>2</th>\n",
       "      <td>Gianyar</td>\n",
       "      <td>-8.548236</td>\n",
       "      <td>115.326054</td>\n",
       "      <td>1</td>\n",
       "      <td>Convenience Store</td>\n",
       "      <td>Park</td>\n",
       "      <td>Video Game Store</td>\n",
       "    </tr>\n",
       "    <tr>\n",
       "      <th>3</th>\n",
       "      <td>Klungkung</td>\n",
       "      <td>-8.535017</td>\n",
       "      <td>115.403276</td>\n",
       "      <td>0</td>\n",
       "      <td>History Museum</td>\n",
       "      <td>Historic Site</td>\n",
       "      <td>Night Market</td>\n",
       "    </tr>\n",
       "    <tr>\n",
       "      <th>4</th>\n",
       "      <td>Bangli</td>\n",
       "      <td>-8.460312</td>\n",
       "      <td>115.353520</td>\n",
       "      <td>0</td>\n",
       "      <td>Gym</td>\n",
       "      <td>Flea Market</td>\n",
       "      <td>Snack Place</td>\n",
       "    </tr>\n",
       "  </tbody>\n",
       "</table>\n",
       "</div>"
      ],
      "text/plain": [
       "     Regency       Lat        Long  Cluster Labels  1st Most Common Venue  \\\n",
       "0   Denpasar -8.652497  115.219117               2  Indonesian Restaurant   \n",
       "1    Tabanan -8.539231  115.126568               0                 Bakery   \n",
       "2    Gianyar -8.548236  115.326054               1      Convenience Store   \n",
       "3  Klungkung -8.535017  115.403276               0         History Museum   \n",
       "4     Bangli -8.460312  115.353520               0                    Gym   \n",
       "\n",
       "  2nd Most Common Venue 3rd Most Common Venue  \n",
       "0           Coffee Shop          Noodle House  \n",
       "1        Breakfast Spot    Chinese Restaurant  \n",
       "2                  Park      Video Game Store  \n",
       "3         Historic Site          Night Market  \n",
       "4           Flea Market           Snack Place  "
      ]
     },
     "execution_count": 280,
     "metadata": {},
     "output_type": "execute_result"
    }
   ],
   "source": [
    "Bali_merged = df_Bali_Final\n",
    "\n",
    "# add clustering labels\n",
    "Bali_merged['Cluster Labels'] = kmeans.labels_\n",
    "\n",
    "# merge toronto_grouped with toronto_data to add latitude/longitude for each neighborhood\n",
    "Bali_merged = Bali_merged.join(neighborhoods_venues_sorted.set_index('Regency'), on='Regency')\n",
    "\n",
    "Bali_merged.head()"
   ]
  },
  {
   "cell_type": "code",
   "execution_count": 282,
   "metadata": {},
   "outputs": [
    {
     "data": {
      "text/html": [
       "<div style=\"width:100%;\"><div style=\"position:relative;width:100%;height:0;padding-bottom:60%;\"><iframe src=\"data:text/html;charset=utf-8;base64,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\" style=\"position:absolute;width:100%;height:100%;left:0;top:0;border:none !important;\" allowfullscreen webkitallowfullscreen mozallowfullscreen></iframe></div></div>"
      ],
      "text/plain": [
       "<folium.folium.Map at 0x1a26c55b50>"
      ]
     },
     "execution_count": 282,
     "metadata": {},
     "output_type": "execute_result"
    }
   ],
   "source": [
    "map_clusters = folium.Map(location=[latitude, longitude], zoom_start=10)\n",
    "\n",
    "# set color scheme for the clusters\n",
    "x = np.arange(kclusters)\n",
    "ys = [i+x+(i*x)**2 for i in range(kclusters)]\n",
    "colors_array = cm.rainbow(np.linspace(0, 1, len(ys)))\n",
    "rainbow = [colors.rgb2hex(i) for i in colors_array]\n",
    "\n",
    "# add markers to the map\n",
    "markers_colors = []\n",
    "for lat, lon, poi, cluster in zip(Bali_merged['Lat'], Bali_merged['Long'], Bali_merged['Regency'], Bali_merged['Cluster Labels']):\n",
    "    label = folium.Popup(str(poi) + ' Cluster ' + str(cluster), parse_html=True)\n",
    "    folium.CircleMarker(\n",
    "        [lat, lon],\n",
    "        radius=10,\n",
    "        popup=label,\n",
    "        color=rainbow[cluster-1],\n",
    "        fill=True,\n",
    "        fill_color=rainbow[cluster-1],\n",
    "        fill_opacity=0.7).add_to(map_clusters)\n",
    "       \n",
    "map_clusters"
   ]
  },
  {
   "cell_type": "markdown",
   "metadata": {},
   "source": [
    "## Describe Each Cluster"
   ]
  },
  {
   "cell_type": "code",
   "execution_count": 294,
   "metadata": {},
   "outputs": [
    {
     "data": {
      "text/html": [
       "<div>\n",
       "<style scoped>\n",
       "    .dataframe tbody tr th:only-of-type {\n",
       "        vertical-align: middle;\n",
       "    }\n",
       "\n",
       "    .dataframe tbody tr th {\n",
       "        vertical-align: top;\n",
       "    }\n",
       "\n",
       "    .dataframe thead th {\n",
       "        text-align: right;\n",
       "    }\n",
       "</style>\n",
       "<table border=\"1\" class=\"dataframe\">\n",
       "  <thead>\n",
       "    <tr style=\"text-align: right;\">\n",
       "      <th></th>\n",
       "      <th>Regency</th>\n",
       "      <th>Cluster Labels</th>\n",
       "      <th>1st Most Common Venue</th>\n",
       "      <th>2nd Most Common Venue</th>\n",
       "      <th>3rd Most Common Venue</th>\n",
       "    </tr>\n",
       "  </thead>\n",
       "  <tbody>\n",
       "    <tr>\n",
       "      <th>1</th>\n",
       "      <td>Tabanan</td>\n",
       "      <td>0</td>\n",
       "      <td>Bakery</td>\n",
       "      <td>Breakfast Spot</td>\n",
       "      <td>Chinese Restaurant</td>\n",
       "    </tr>\n",
       "    <tr>\n",
       "      <th>3</th>\n",
       "      <td>Klungkung</td>\n",
       "      <td>0</td>\n",
       "      <td>History Museum</td>\n",
       "      <td>Historic Site</td>\n",
       "      <td>Night Market</td>\n",
       "    </tr>\n",
       "    <tr>\n",
       "      <th>4</th>\n",
       "      <td>Bangli</td>\n",
       "      <td>0</td>\n",
       "      <td>Gym</td>\n",
       "      <td>Flea Market</td>\n",
       "      <td>Snack Place</td>\n",
       "    </tr>\n",
       "  </tbody>\n",
       "</table>\n",
       "</div>"
      ],
      "text/plain": [
       "     Regency  Cluster Labels 1st Most Common Venue 2nd Most Common Venue  \\\n",
       "1    Tabanan               0                Bakery        Breakfast Spot   \n",
       "3  Klungkung               0        History Museum         Historic Site   \n",
       "4     Bangli               0                   Gym           Flea Market   \n",
       "\n",
       "  3rd Most Common Venue  \n",
       "1    Chinese Restaurant  \n",
       "3          Night Market  \n",
       "4           Snack Place  "
      ]
     },
     "execution_count": 294,
     "metadata": {},
     "output_type": "execute_result"
    }
   ],
   "source": [
    "Bali_merged.loc[Bali_merged['Cluster Labels'] == 0, Bali_merged.columns[[0] + list(range(3, Bali_merged.shape[1]))]]"
   ]
  },
  {
   "cell_type": "code",
   "execution_count": 295,
   "metadata": {},
   "outputs": [
    {
     "data": {
      "text/html": [
       "<div>\n",
       "<style scoped>\n",
       "    .dataframe tbody tr th:only-of-type {\n",
       "        vertical-align: middle;\n",
       "    }\n",
       "\n",
       "    .dataframe tbody tr th {\n",
       "        vertical-align: top;\n",
       "    }\n",
       "\n",
       "    .dataframe thead th {\n",
       "        text-align: right;\n",
       "    }\n",
       "</style>\n",
       "<table border=\"1\" class=\"dataframe\">\n",
       "  <thead>\n",
       "    <tr style=\"text-align: right;\">\n",
       "      <th></th>\n",
       "      <th>Regency</th>\n",
       "      <th>Cluster Labels</th>\n",
       "      <th>1st Most Common Venue</th>\n",
       "      <th>2nd Most Common Venue</th>\n",
       "      <th>3rd Most Common Venue</th>\n",
       "    </tr>\n",
       "  </thead>\n",
       "  <tbody>\n",
       "    <tr>\n",
       "      <th>2</th>\n",
       "      <td>Gianyar</td>\n",
       "      <td>1</td>\n",
       "      <td>Convenience Store</td>\n",
       "      <td>Park</td>\n",
       "      <td>Video Game Store</td>\n",
       "    </tr>\n",
       "  </tbody>\n",
       "</table>\n",
       "</div>"
      ],
      "text/plain": [
       "   Regency  Cluster Labels 1st Most Common Venue 2nd Most Common Venue  \\\n",
       "2  Gianyar               1     Convenience Store                  Park   \n",
       "\n",
       "  3rd Most Common Venue  \n",
       "2      Video Game Store  "
      ]
     },
     "execution_count": 295,
     "metadata": {},
     "output_type": "execute_result"
    }
   ],
   "source": [
    "Bali_merged.loc[Bali_merged['Cluster Labels'] == 1, Bali_merged.columns[[0] + list(range(3, Bali_merged.shape[1]))]]"
   ]
  },
  {
   "cell_type": "code",
   "execution_count": 296,
   "metadata": {},
   "outputs": [
    {
     "data": {
      "text/html": [
       "<div>\n",
       "<style scoped>\n",
       "    .dataframe tbody tr th:only-of-type {\n",
       "        vertical-align: middle;\n",
       "    }\n",
       "\n",
       "    .dataframe tbody tr th {\n",
       "        vertical-align: top;\n",
       "    }\n",
       "\n",
       "    .dataframe thead th {\n",
       "        text-align: right;\n",
       "    }\n",
       "</style>\n",
       "<table border=\"1\" class=\"dataframe\">\n",
       "  <thead>\n",
       "    <tr style=\"text-align: right;\">\n",
       "      <th></th>\n",
       "      <th>Regency</th>\n",
       "      <th>Cluster Labels</th>\n",
       "      <th>1st Most Common Venue</th>\n",
       "      <th>2nd Most Common Venue</th>\n",
       "      <th>3rd Most Common Venue</th>\n",
       "    </tr>\n",
       "  </thead>\n",
       "  <tbody>\n",
       "    <tr>\n",
       "      <th>0</th>\n",
       "      <td>Denpasar</td>\n",
       "      <td>2</td>\n",
       "      <td>Indonesian Restaurant</td>\n",
       "      <td>Coffee Shop</td>\n",
       "      <td>Noodle House</td>\n",
       "    </tr>\n",
       "  </tbody>\n",
       "</table>\n",
       "</div>"
      ],
      "text/plain": [
       "    Regency  Cluster Labels  1st Most Common Venue 2nd Most Common Venue  \\\n",
       "0  Denpasar               2  Indonesian Restaurant           Coffee Shop   \n",
       "\n",
       "  3rd Most Common Venue  \n",
       "0          Noodle House  "
      ]
     },
     "execution_count": 296,
     "metadata": {},
     "output_type": "execute_result"
    }
   ],
   "source": [
    "Bali_merged.loc[Bali_merged['Cluster Labels'] == 2, Bali_merged.columns[[0] + list(range(3, Bali_merged.shape[1]))]]"
   ]
  },
  {
   "cell_type": "markdown",
   "metadata": {},
   "source": [
    "### Summary"
   ]
  },
  {
   "cell_type": "markdown",
   "metadata": {},
   "source": [
    "Based on the clustering result, We can suggest to tourist to stay in Denpasar. Because this area categories as area with the have the most of Indonesian Restaurant. So the tourist can experienced the local food on their choices. Example of the Indonesian Restaurant that can be visit as below:"
   ]
  },
  {
   "cell_type": "code",
   "execution_count": 307,
   "metadata": {},
   "outputs": [
    {
     "data": {
      "text/html": [
       "<div>\n",
       "<style scoped>\n",
       "    .dataframe tbody tr th:only-of-type {\n",
       "        vertical-align: middle;\n",
       "    }\n",
       "\n",
       "    .dataframe tbody tr th {\n",
       "        vertical-align: top;\n",
       "    }\n",
       "\n",
       "    .dataframe thead th {\n",
       "        text-align: right;\n",
       "    }\n",
       "</style>\n",
       "<table border=\"1\" class=\"dataframe\">\n",
       "  <thead>\n",
       "    <tr style=\"text-align: right;\">\n",
       "      <th></th>\n",
       "      <th>Regency</th>\n",
       "      <th>Regency Latitude</th>\n",
       "      <th>Regency Longitude</th>\n",
       "      <th>Venue</th>\n",
       "      <th>Venue Latitude</th>\n",
       "      <th>Venue Longitude</th>\n",
       "      <th>Venue Category</th>\n",
       "    </tr>\n",
       "  </thead>\n",
       "  <tbody>\n",
       "    <tr>\n",
       "      <th>0</th>\n",
       "      <td>Denpasar</td>\n",
       "      <td>-8.652497</td>\n",
       "      <td>115.219117</td>\n",
       "      <td>Dapoer Pemuda</td>\n",
       "      <td>-8.653717</td>\n",
       "      <td>115.217061</td>\n",
       "      <td>Indonesian Restaurant</td>\n",
       "    </tr>\n",
       "    <tr>\n",
       "      <th>3</th>\n",
       "      <td>Denpasar</td>\n",
       "      <td>-8.652497</td>\n",
       "      <td>115.219117</td>\n",
       "      <td>Warung Wardani</td>\n",
       "      <td>-8.651159</td>\n",
       "      <td>115.215957</td>\n",
       "      <td>Indonesian Restaurant</td>\n",
       "    </tr>\n",
       "    <tr>\n",
       "      <th>8</th>\n",
       "      <td>Denpasar</td>\n",
       "      <td>-8.652497</td>\n",
       "      <td>115.219117</td>\n",
       "      <td>Depot Karna Sari</td>\n",
       "      <td>-8.654098</td>\n",
       "      <td>115.216454</td>\n",
       "      <td>Indonesian Restaurant</td>\n",
       "    </tr>\n",
       "    <tr>\n",
       "      <th>25</th>\n",
       "      <td>Denpasar</td>\n",
       "      <td>-8.652497</td>\n",
       "      <td>115.219117</td>\n",
       "      <td>Warung Adnyana</td>\n",
       "      <td>-8.649157</td>\n",
       "      <td>115.219420</td>\n",
       "      <td>Indonesian Restaurant</td>\n",
       "    </tr>\n",
       "  </tbody>\n",
       "</table>\n",
       "</div>"
      ],
      "text/plain": [
       "     Regency  Regency Latitude  Regency Longitude             Venue  \\\n",
       "0   Denpasar         -8.652497         115.219117     Dapoer Pemuda   \n",
       "3   Denpasar         -8.652497         115.219117    Warung Wardani   \n",
       "8   Denpasar         -8.652497         115.219117  Depot Karna Sari   \n",
       "25  Denpasar         -8.652497         115.219117    Warung Adnyana   \n",
       "\n",
       "    Venue Latitude  Venue Longitude         Venue Category  \n",
       "0        -8.653717       115.217061  Indonesian Restaurant  \n",
       "3        -8.651159       115.215957  Indonesian Restaurant  \n",
       "8        -8.654098       115.216454  Indonesian Restaurant  \n",
       "25       -8.649157       115.219420  Indonesian Restaurant  "
      ]
     },
     "execution_count": 307,
     "metadata": {},
     "output_type": "execute_result"
    }
   ],
   "source": [
    "Denpasar_Food = Bali_venues[((Bali_venues['Regency'] == 'Denpasar') & (Bali_venues['Venue Category'] == 'Indonesian Restaurant'))]\n",
    "Denpasar_Food"
   ]
  },
  {
   "cell_type": "code",
   "execution_count": 316,
   "metadata": {},
   "outputs": [
    {
     "data": {
      "text/html": [
       "<div style=\"width:100%;\"><div style=\"position:relative;width:100%;height:0;padding-bottom:60%;\"><iframe src=\"data:text/html;charset=utf-8;base64,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\" style=\"position:absolute;width:100%;height:100%;left:0;top:0;border:none !important;\" allowfullscreen webkitallowfullscreen mozallowfullscreen></iframe></div></div>"
      ],
      "text/plain": [
       "<folium.folium.Map at 0x1a27c8b7d0>"
      ]
     },
     "execution_count": 316,
     "metadata": {},
     "output_type": "execute_result"
    }
   ],
   "source": [
    "map_clusters = folium.Map(location=[latitude, longitude], zoom_start=13)\n",
    "\n",
    "# add markers to the map\n",
    "markers_colors = []\n",
    "for lat, lon, poi in zip(Denpasar_Food['Venue Latitude'], Denpasar_Food['Venue Longitude'], Denpasar_Food['Venue']):\n",
    "    label = folium.Popup(str(poi), parse_html=True)\n",
    "    folium.CircleMarker(\n",
    "        [lat, lon],\n",
    "        radius=5,\n",
    "        popup=label,\n",
    "        fill=True,\n",
    "        fill_opacity=0.7).add_to(map_clusters)\n",
    "       \n",
    "map_clusters"
   ]
  },
  {
   "cell_type": "markdown",
   "metadata": {},
   "source": [
    "### End"
   ]
  },
  {
   "cell_type": "code",
   "execution_count": null,
   "metadata": {},
   "outputs": [],
   "source": []
  }
 ],
 "metadata": {
  "kernelspec": {
   "display_name": "Python 3",
   "language": "python",
   "name": "python3"
  },
  "language_info": {
   "codemirror_mode": {
    "name": "ipython",
    "version": 3
   },
   "file_extension": ".py",
   "mimetype": "text/x-python",
   "name": "python",
   "nbconvert_exporter": "python",
   "pygments_lexer": "ipython3",
   "version": "3.7.6"
  }
 },
 "nbformat": 4,
 "nbformat_minor": 4
}
