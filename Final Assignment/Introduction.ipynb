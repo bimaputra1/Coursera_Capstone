{
 "cells": [
  {
   "cell_type": "markdown",
   "metadata": {},
   "source": [
    "# CAPSTONE PROJECT: BATTLE OF THE NEIGHBORHOODS  \n",
    "## Bali Indonesia Venue Recommendation for Food Lover Tourist"
   ]
  },
  {
   "cell_type": "markdown",
   "metadata": {},
   "source": [
    "_________\n",
    "## I. INTRODUCTION\n",
    "### Background\n",
    "Bali is an Indonesian island known for its forested volcanic mountains, iconic rice paddies, beaches and coral reefs. The island is home to religious sites such as cliffside Uluwatu Temple. To the south, the beachside city of Kuta has lively bars, while Seminyak, Sanur and Nusa Dua are popular resort towns. The island is also known for its yoga and meditation retreats.\n",
    "\n",
    "Other than that, Bali also have many choice of food venue that worth to try. In order to experienced it better, living near the location that surronded by food can be a good when visiting Bali. \n",
    "\n",
    "### Purpose\n",
    "The intention of this analysis is to give suggestion for tourist where is the best location to stay in Bali based on the surronded food venue.\n",
    "\n",
    "### Interest\n",
    "For this project, we will clustering administrative division of Bali based on the food venue around. So this analysis result can be used by tourist to pick their place to stay before visiting Bali. More over the result of this analysis also can be used by Ministry of Tourism as a guide to develop the specific administrative location for better food tourism experience.\n",
    "______\n",
    "## II. DATASET\n",
    "The dataset will be and administrative division in Bali that will be get from Bali Wikipedia pages.The data can be get from table in this site https://en.wikipedia.org/wiki/Bali. In this data we will get the location that will be compared each others. Each administrative location have their each unique venue in term of food, cultural, arts, etc. \n",
    "\n",
    "Then we will used foursquare API to get the top venue surronded in each area. By this we can find which location are well suited to food tourist for their place to stay.\n",
    "\n"
   ]
  },
  {
   "cell_type": "code",
   "execution_count": null,
   "metadata": {},
   "outputs": [],
   "source": []
  }
 ],
 "metadata": {
  "kernelspec": {
   "display_name": "Python 3",
   "language": "python",
   "name": "python3"
  },
  "language_info": {
   "codemirror_mode": {
    "name": "ipython",
    "version": 3
   },
   "file_extension": ".py",
   "mimetype": "text/x-python",
   "name": "python",
   "nbconvert_exporter": "python",
   "pygments_lexer": "ipython3",
   "version": "3.7.6"
  }
 },
 "nbformat": 4,
 "nbformat_minor": 4
}
